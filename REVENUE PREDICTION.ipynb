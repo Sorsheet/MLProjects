{
 "cells": [
  {
   "cell_type": "code",
   "execution_count": 1,
   "id": "3156ff9b",
   "metadata": {},
   "outputs": [],
   "source": [
    "import pandas as pd\n",
    "import numpy as np\n",
    "import seaborn as sns\n",
    "import matplotlib.pyplot as plt"
   ]
  },
  {
   "cell_type": "code",
   "execution_count": 11,
   "id": "567a425c",
   "metadata": {},
   "outputs": [
    {
     "data": {
      "text/html": [
       "<div>\n",
       "<style scoped>\n",
       "    .dataframe tbody tr th:only-of-type {\n",
       "        vertical-align: middle;\n",
       "    }\n",
       "\n",
       "    .dataframe tbody tr th {\n",
       "        vertical-align: top;\n",
       "    }\n",
       "\n",
       "    .dataframe thead th {\n",
       "        text-align: right;\n",
       "    }\n",
       "</style>\n",
       "<table border=\"1\" class=\"dataframe\">\n",
       "  <thead>\n",
       "    <tr style=\"text-align: right;\">\n",
       "      <th></th>\n",
       "      <th>Id</th>\n",
       "      <th>Name</th>\n",
       "      <th>Franchise</th>\n",
       "      <th>Category</th>\n",
       "      <th>City</th>\n",
       "      <th>No_Of_Item</th>\n",
       "      <th>Order_Placed</th>\n",
       "      <th>Revenue</th>\n",
       "    </tr>\n",
       "  </thead>\n",
       "  <tbody>\n",
       "    <tr>\n",
       "      <th>0</th>\n",
       "      <td>101</td>\n",
       "      <td>HungryHowie'sPizza</td>\n",
       "      <td>Yes</td>\n",
       "      <td>Mexican</td>\n",
       "      <td>Bengaluru</td>\n",
       "      <td>55</td>\n",
       "      <td>5.5</td>\n",
       "      <td>5953753</td>\n",
       "    </tr>\n",
       "    <tr>\n",
       "      <th>1</th>\n",
       "      <td>102</td>\n",
       "      <td>CharleysPhillySteaks</td>\n",
       "      <td>No</td>\n",
       "      <td>Varied Menu</td>\n",
       "      <td>Gurugram</td>\n",
       "      <td>72</td>\n",
       "      <td>6.8</td>\n",
       "      <td>7223131</td>\n",
       "    </tr>\n",
       "    <tr>\n",
       "      <th>2</th>\n",
       "      <td>103</td>\n",
       "      <td>Chuy's</td>\n",
       "      <td>Yes</td>\n",
       "      <td>Chicken</td>\n",
       "      <td>Pune</td>\n",
       "      <td>25</td>\n",
       "      <td>1.9</td>\n",
       "      <td>2555379</td>\n",
       "    </tr>\n",
       "    <tr>\n",
       "      <th>3</th>\n",
       "      <td>104</td>\n",
       "      <td>O'Charley's</td>\n",
       "      <td>Yes</td>\n",
       "      <td>Italian/Pizza</td>\n",
       "      <td>Mumbai</td>\n",
       "      <td>18</td>\n",
       "      <td>2.5</td>\n",
       "      <td>2175511</td>\n",
       "    </tr>\n",
       "    <tr>\n",
       "      <th>4</th>\n",
       "      <td>105</td>\n",
       "      <td>PolloTropical</td>\n",
       "      <td>Yes</td>\n",
       "      <td>Pizza</td>\n",
       "      <td>Noida</td>\n",
       "      <td>48</td>\n",
       "      <td>4.2</td>\n",
       "      <td>4816715</td>\n",
       "    </tr>\n",
       "  </tbody>\n",
       "</table>\n",
       "</div>"
      ],
      "text/plain": [
       "    Id                  Name Franchise       Category       City  No_Of_Item  \\\n",
       "0  101    HungryHowie'sPizza       Yes        Mexican  Bengaluru          55   \n",
       "1  102  CharleysPhillySteaks        No    Varied Menu   Gurugram          72   \n",
       "2  103                Chuy's       Yes        Chicken       Pune          25   \n",
       "3  104           O'Charley's       Yes  Italian/Pizza     Mumbai          18   \n",
       "4  105         PolloTropical       Yes          Pizza      Noida          48   \n",
       "\n",
       "   Order_Placed  Revenue  \n",
       "0           5.5  5953753  \n",
       "1           6.8  7223131  \n",
       "2           1.9  2555379  \n",
       "3           2.5  2175511  \n",
       "4           4.2  4816715  "
      ]
     },
     "execution_count": 11,
     "metadata": {},
     "output_type": "execute_result"
    }
   ],
   "source": [
    "df = pd.read_csv('revenue_prediction.csv')\n",
    "df.head()"
   ]
  },
  {
   "cell_type": "code",
   "execution_count": 12,
   "id": "7c087f09",
   "metadata": {},
   "outputs": [
    {
     "data": {
      "text/plain": [
       "Id              0\n",
       "Name            0\n",
       "Franchise       0\n",
       "Category        0\n",
       "City            0\n",
       "No_Of_Item      0\n",
       "Order_Placed    0\n",
       "Revenue         0\n",
       "dtype: int64"
      ]
     },
     "execution_count": 12,
     "metadata": {},
     "output_type": "execute_result"
    }
   ],
   "source": [
    "df.isnull().sum()"
   ]
  },
  {
   "cell_type": "code",
   "execution_count": 13,
   "id": "27489fd7",
   "metadata": {},
   "outputs": [
    {
     "data": {
      "text/html": [
       "<div>\n",
       "<style scoped>\n",
       "    .dataframe tbody tr th:only-of-type {\n",
       "        vertical-align: middle;\n",
       "    }\n",
       "\n",
       "    .dataframe tbody tr th {\n",
       "        vertical-align: top;\n",
       "    }\n",
       "\n",
       "    .dataframe thead th {\n",
       "        text-align: right;\n",
       "    }\n",
       "</style>\n",
       "<table border=\"1\" class=\"dataframe\">\n",
       "  <thead>\n",
       "    <tr style=\"text-align: right;\">\n",
       "      <th></th>\n",
       "      <th>Order_Placed</th>\n",
       "      <th>Revenue</th>\n",
       "    </tr>\n",
       "  </thead>\n",
       "  <tbody>\n",
       "    <tr>\n",
       "      <th>0</th>\n",
       "      <td>5.5</td>\n",
       "      <td>5953753</td>\n",
       "    </tr>\n",
       "    <tr>\n",
       "      <th>1</th>\n",
       "      <td>6.8</td>\n",
       "      <td>7223131</td>\n",
       "    </tr>\n",
       "    <tr>\n",
       "      <th>2</th>\n",
       "      <td>1.9</td>\n",
       "      <td>2555379</td>\n",
       "    </tr>\n",
       "    <tr>\n",
       "      <th>3</th>\n",
       "      <td>2.5</td>\n",
       "      <td>2175511</td>\n",
       "    </tr>\n",
       "    <tr>\n",
       "      <th>4</th>\n",
       "      <td>4.2</td>\n",
       "      <td>4816715</td>\n",
       "    </tr>\n",
       "  </tbody>\n",
       "</table>\n",
       "</div>"
      ],
      "text/plain": [
       "   Order_Placed  Revenue\n",
       "0           5.5  5953753\n",
       "1           6.8  7223131\n",
       "2           1.9  2555379\n",
       "3           2.5  2175511\n",
       "4           4.2  4816715"
      ]
     },
     "execution_count": 13,
     "metadata": {},
     "output_type": "execute_result"
    }
   ],
   "source": [
    "# dropping the irrelevant columns\n",
    "\n",
    "df = df.drop(columns=['Id','Name', 'Franchise', 'Category', 'City', 'No_Of_Item'])\n",
    "df.head()"
   ]
  },
  {
   "cell_type": "code",
   "execution_count": 14,
   "id": "541934b1",
   "metadata": {},
   "outputs": [
    {
     "data": {
      "text/plain": [
       "(100, 2)"
      ]
     },
     "execution_count": 14,
     "metadata": {},
     "output_type": "execute_result"
    }
   ],
   "source": [
    "df.shape"
   ]
  },
  {
   "cell_type": "code",
   "execution_count": 15,
   "id": "bcdb050c",
   "metadata": {},
   "outputs": [],
   "source": [
    "# creating dependent and independent variables\n",
    "\n",
    "x = df.iloc[:,:-1].values\n",
    "y = df.iloc[:,-1].values  # target column"
   ]
  },
  {
   "cell_type": "code",
   "execution_count": 16,
   "id": "cd71f8cb",
   "metadata": {},
   "outputs": [],
   "source": [
    "from sklearn.model_selection import train_test_split\n",
    "\n",
    "x_train,x_test,y_train,y_test = train_test_split(x,y,test_size=0.2, random_state=42)"
   ]
  },
  {
   "cell_type": "code",
   "execution_count": 17,
   "id": "2962a3db",
   "metadata": {},
   "outputs": [
    {
     "name": "stdout",
     "output_type": "stream",
     "text": [
      "(80, 1)\n",
      "(20, 1)\n",
      "(80,)\n",
      "(20,)\n"
     ]
    }
   ],
   "source": [
    "print(x_train.shape)\n",
    "print(x_test.shape)\n",
    "print(y_train.shape)\n",
    "print(y_test.shape)"
   ]
  },
  {
   "cell_type": "code",
   "execution_count": 18,
   "id": "ab5b659d",
   "metadata": {},
   "outputs": [],
   "source": [
    "# Training the Simple Linear Regression model on the Training set"
   ]
  },
  {
   "cell_type": "code",
   "execution_count": 19,
   "id": "e25386e5",
   "metadata": {},
   "outputs": [],
   "source": [
    "from sklearn.linear_model import LinearRegression\n",
    "lr=LinearRegression()"
   ]
  },
  {
   "cell_type": "code",
   "execution_count": 21,
   "id": "8f3fb2ee",
   "metadata": {},
   "outputs": [
    {
     "data": {
      "text/plain": [
       "LinearRegression()"
      ]
     },
     "execution_count": 21,
     "metadata": {},
     "output_type": "execute_result"
    }
   ],
   "source": [
    "lr.fit(x_train,y_train)"
   ]
  },
  {
   "cell_type": "code",
   "execution_count": 30,
   "id": "44052d0a",
   "metadata": {},
   "outputs": [
    {
     "data": {
      "text/plain": [
       "array([6351103.23642516, 5984998.65773576, 4032440.90472562,\n",
       "       3788371.18559936, 4276510.62385189, 3910406.04516249,\n",
       "       4032440.90472562, 3666336.32603622, 3788371.18559936,\n",
       "       6107033.5172989 , 5740928.93860949, 2934127.16865742,\n",
       "       3178196.88778369, 2079883.15171548, 3422266.60690995,\n",
       "       4520580.34297816, 4642615.20254129, 1469708.85389981,\n",
       "       1347673.99433668, 1713778.57302608])"
      ]
     },
     "execution_count": 30,
     "metadata": {},
     "output_type": "execute_result"
    }
   ],
   "source": [
    "# generatin Predictions\n",
    "\n",
    "y_preds=lr.predict(x_test)\n",
    "y_preds"
   ]
  },
  {
   "cell_type": "code",
   "execution_count": 25,
   "id": "271dda61",
   "metadata": {},
   "outputs": [
    {
     "data": {
      "text/plain": [
       "array([ 7693486.69161964,  1713778.57302608,  1957848.29215235,\n",
       "        5252789.50035696,  3422266.60690995,  3178196.88778369,\n",
       "        7571451.8320565 ,  7083312.39380397,  5862963.79817263,\n",
       "        2323952.87084175,  5496859.21948323,  8791800.42768784,\n",
       "        8181626.12987217,  5008719.78123069,  3422266.60690995,\n",
       "        5374824.35992009,  1469708.85389981,  1347673.99433668,\n",
       "        3788371.18559936, 12574881.07414499,  9768079.30419291,\n",
       "        4276510.62385189,  4642615.20254129,   737499.69652101,\n",
       "        5862963.79817263,  1713778.57302608,  4154475.76428876,\n",
       "        3788371.18559936,  5618894.07904636,  5130754.64079383,\n",
       "       10134183.88288231,  2445987.73040488,  9279939.86594037,\n",
       "        5862963.79817263,  5252789.50035696,  3666336.32603622,\n",
       "        5496859.21948323,  2323952.87084175,  2812092.30909428,\n",
       "        1957848.29215235,  1957848.29215235,  4764650.06210443,\n",
       "        4886684.92166756,  2568022.58996802,  1713778.57302608,\n",
       "        4032440.90472562,  4398545.48341502,  3788371.18559936,\n",
       "        4520580.34297816,  6961277.53424083,  6839242.6746777 ,\n",
       "        4764650.06210443,  2934127.16865742,  8059591.27030904,\n",
       "        1957848.29215235,  3178196.88778369, 15259647.98453393,\n",
       "        3178196.88778369,  3666336.32603622,  3544301.46647309,\n",
       "        1225639.13477355,  4154475.76428876,  2568022.58996802,\n",
       "        3422266.60690995,  7693486.69161964,  1347673.99433668,\n",
       "         615464.83695788,  1713778.57302608,  2812092.30909428,\n",
       "        6473138.0959883 ,  1713778.57302608,  5618894.07904636,\n",
       "        3178196.88778369,  3788371.18559936,  5984998.65773576,\n",
       "        3056162.02822055,  4276510.62385189,  1591743.71346295,\n",
       "        7327382.11293023,  3178196.88778369])"
      ]
     },
     "execution_count": 25,
     "metadata": {},
     "output_type": "execute_result"
    }
   ],
   "source": [
    "preds2=lr.predict(x_train)\n",
    "preds2"
   ]
  },
  {
   "cell_type": "code",
   "execution_count": 27,
   "id": "d09a24b4",
   "metadata": {},
   "outputs": [
    {
     "data": {
      "text/plain": [
       "Text(0, 0.5, 'Revenue')"
      ]
     },
     "execution_count": 27,
     "metadata": {},
     "output_type": "execute_result"
    },
    {
     "data": {
      "image/png": "[encoded data removed]",
      "text/plain": [
       "<Figure size 640x480 with 1 Axes>"
      ]
     },
     "metadata": {},
     "output_type": "display_data"
    }
   ],
   "source": [
    "# visualising Training set results\n",
    "\n",
    "plt.scatter(x_train,y_train,color='red')\n",
    "plt.plot(x_train,preds2,color='blue')\n",
    "plt.title(\"Revenue vs orders\")\n",
    "plt.xlabel(\"orders\")\n",
    "plt.ylabel(\"Revenue\")"
   ]
  },
  {
   "cell_type": "code",
   "execution_count": 29,
   "id": "fd5003fe",
   "metadata": {},
   "outputs": [
    {
     "data": {
      "text/plain": [
       "Text(0, 0.5, 'Revenue')"
      ]
     },
     "execution_count": 29,
     "metadata": {},
     "output_type": "execute_result"
    },
    {
     "data": {
      "image/png": "[encoded data removed]",
      "text/plain": [
       "<Figure size 640x480 with 1 Axes>"
      ]
     },
     "metadata": {},
     "output_type": "display_data"
    }
   ],
   "source": [
    "# visualising Test set results\n",
    "\n",
    "plt.scatter(x_test,y_test,color='red')\n",
    "plt.plot(x_train,preds2,color='blue')\n",
    "plt.title(\"Revenue vs orders\")\n",
    "plt.xlabel(\"orders\")\n",
    "plt.ylabel(\"Revenue\")"
   ]
  },
  {
   "cell_type": "code",
   "execution_count": 33,
   "id": "0e9057a4",
   "metadata": {},
   "outputs": [
    {
     "data": {
      "text/plain": [
       "0.9109612329066814"
      ]
     },
     "execution_count": 33,
     "metadata": {},
     "output_type": "execute_result"
    }
   ],
   "source": [
    "# testing the accuracy of moddel:\n",
    "\n",
    "from sklearn.metrics import r2_score\n",
    "\n",
    "score = r2_score(y_preds,y_test)\n",
    "score"
   ]
  },
  {
   "cell_type": "code",
   "execution_count": null,
   "id": "1f0498aa",
   "metadata": {},
   "outputs": [],
   "source": [
    "# Therefore the revenue is supposed to be increasing as the accuracy is high for the predicted model."
   ]
  }
 ],
 "metadata": {
  "kernelspec": {
   "display_name": "Python 3 (ipykernel)",
   "language": "python",
   "name": "python3"
  },
  "language_info": {
   "codemirror_mode": {
    "name": "ipython",
    "version": 3
   },
   "file_extension": ".py",
   "mimetype": "text/x-python",
   "name": "python",
   "nbconvert_exporter": "python",
   "pygments_lexer": "ipython3",
   "version": "3.9.13"
  }
 },
 "nbformat": 4,
 "nbformat_minor": 5
}
